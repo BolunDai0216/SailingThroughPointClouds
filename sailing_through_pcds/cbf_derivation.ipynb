{
 "cells": [
  {
   "cell_type": "code",
   "execution_count": 5,
   "metadata": {},
   "outputs": [],
   "source": [
    "from sympy import *\n",
    "\n",
    "\n",
    "x, y, z, a, b, c, d = symbols(\"x y z a b c d\")\n",
    "q_w, q_x, q_y, q_z = symbols(\"q_w q_x q_y q_z\")\n",
    "r_x, r_y, r_z = symbols(\"r_x r_y r_z\")\n",
    "\n",
    "P = diag(1/a**(2*d), 1/b**(2*d), 1/c**(2*d))\n",
    "Ones = ones(3, 1)\n",
    "\n",
    "R = Matrix(\n",
    "    [\n",
    "        [\n",
    "            2 * (q_w**2 + q_x**2) - 1,\n",
    "            2 * (q_x * q_y - q_w * q_z),\n",
    "            2 * (q_x * q_z + q_w * q_y),\n",
    "        ],\n",
    "        [\n",
    "            2 * (q_x * q_y + q_w * q_z),\n",
    "            2 * (q_w**2 + q_y**2) - 1,\n",
    "            2 * (q_y * q_z - q_w * q_x),\n",
    "        ],\n",
    "        [\n",
    "            2 * (q_x * q_z - q_w * q_y),\n",
    "            2 * (q_y * q_z + q_w * q_x),\n",
    "            2 * (q_w**2 + q_z**2) - 1,\n",
    "        ],\n",
    "    ]\n",
    ")\n",
    "\n",
    "r = Matrix([[r_x], [r_y], [r_z]])\n",
    "q = Matrix([[q_w], [q_x], [q_y], [q_z]])\n",
    "x_vec = Matrix([[x], [y], [z]])\n",
    "bx = R.T @ (x_vec - r)\n",
    "X = diag(bx[0]**d, bx[1]**d, bx[2]**d)\n",
    "\n",
    "alpha = Ones.T @ X @ P @ X @ Ones\n",
    "dalpha_dr = alpha.jacobian(r)\n",
    "dalpha_dq = alpha.jacobian(q)\n",
    "\n",
    "alpha_body = alpha.subs(\n",
    "    {\n",
    "        r_x: 0, \n",
    "        r_y: 0,\n",
    "        r_z: 0, \n",
    "        q_w: 1.0, \n",
    "        q_x: 0, \n",
    "        q_y: 0, \n",
    "        q_z: 0\n",
    "    }\n",
    ")\n",
    "dalpha_dr_body = dalpha_dr.subs(\n",
    "    {\n",
    "        r_x: 0, \n",
    "        r_y: 0, \n",
    "        r_z: 0, \n",
    "        q_w: 1.0, \n",
    "        q_x: 0, \n",
    "        q_y: 0, \n",
    "        q_z: 0\n",
    "    }\n",
    ")\n",
    "dalpha_dq_body = dalpha_dq.subs(\n",
    "    {\n",
    "        r_x: 0, \n",
    "        r_y: 0, \n",
    "        r_z: 0, \n",
    "        q_w: 1.0, \n",
    "        q_x: 0, \n",
    "        q_y: 0, \n",
    "        q_z: 0\n",
    "    }\n",
    ")"
   ]
  },
  {
   "cell_type": "code",
   "execution_count": 6,
   "metadata": {},
   "outputs": [
    {
     "data": {
      "text/latex": [
       "$\\displaystyle \\left[\\begin{matrix}c^{- 2 d} \\left(1.0 z\\right)^{2 d} + b^{- 2 d} \\left(1.0 y\\right)^{2 d} + a^{- 2 d} \\left(1.0 x\\right)^{2 d}\\end{matrix}\\right]$"
      ],
      "text/plain": [
       "Matrix([[(1.0*z)**(2*d)/c**(2*d) + (1.0*y)**(2*d)/b**(2*d) + (1.0*x)**(2*d)/a**(2*d)]])"
      ]
     },
     "execution_count": 6,
     "metadata": {},
     "output_type": "execute_result"
    }
   ],
   "source": [
    "alpha_body"
   ]
  },
  {
   "cell_type": "code",
   "execution_count": 9,
   "metadata": {},
   "outputs": [
    {
     "data": {
      "text/latex": [
       "$\\displaystyle \\left[\\begin{matrix}- \\frac{2.0 a^{- 2 d} d \\left(1.0 x\\right)^{2 d}}{x} & - \\frac{2.0 b^{- 2 d} d \\left(1.0 y\\right)^{2 d}}{y} & - \\frac{2.0 c^{- 2 d} d \\left(1.0 z\\right)^{2 d}}{z}\\end{matrix}\\right]$"
      ],
      "text/plain": [
       "Matrix([[-2.0*d*(1.0*x)**(2*d)/(a**(2*d)*x), -2.0*d*(1.0*y)**(2*d)/(b**(2*d)*y), -2.0*d*(1.0*z)**(2*d)/(c**(2*d)*z)]])"
      ]
     },
     "execution_count": 9,
     "metadata": {},
     "output_type": "execute_result"
    }
   ],
   "source": [
    "simplify(dalpha_dr_body)"
   ]
  },
  {
   "cell_type": "code",
   "execution_count": 10,
   "metadata": {},
   "outputs": [
    {
     "data": {
      "text/latex": [
       "$\\displaystyle \\left[\\begin{matrix}8.0 c^{- 2 d} d \\left(1.0 z\\right)^{2 d} + 8.0 b^{- 2 d} d \\left(1.0 y\\right)^{2 d} + 8.0 a^{- 2 d} d \\left(1.0 x\\right)^{2 d} & - \\frac{4.0 c^{- 2 d} d y \\left(1.0 z\\right)^{2 d}}{z} + \\frac{4.0 b^{- 2 d} d z \\left(1.0 y\\right)^{2 d}}{y} & \\frac{4.0 c^{- 2 d} d x \\left(1.0 z\\right)^{2 d}}{z} - \\frac{4.0 a^{- 2 d} d z \\left(1.0 x\\right)^{2 d}}{x} & - \\frac{4.0 b^{- 2 d} d x \\left(1.0 y\\right)^{2 d}}{y} + \\frac{4.0 a^{- 2 d} d y \\left(1.0 x\\right)^{2 d}}{x}\\end{matrix}\\right]$"
      ],
      "text/plain": [
       "Matrix([[8.0*d*(1.0*z)**(2*d)/c**(2*d) + 8.0*d*(1.0*y)**(2*d)/b**(2*d) + 8.0*d*(1.0*x)**(2*d)/a**(2*d), -4.0*d*y*(1.0*z)**(2*d)/(c**(2*d)*z) + 4.0*d*z*(1.0*y)**(2*d)/(b**(2*d)*y), 4.0*d*x*(1.0*z)**(2*d)/(c**(2*d)*z) - 4.0*d*z*(1.0*x)**(2*d)/(a**(2*d)*x), -4.0*d*x*(1.0*y)**(2*d)/(b**(2*d)*y) + 4.0*d*y*(1.0*x)**(2*d)/(a**(2*d)*x)]])"
      ]
     },
     "execution_count": 10,
     "metadata": {},
     "output_type": "execute_result"
    }
   ],
   "source": [
    "simplify(dalpha_dq_body)"
   ]
  },
  {
   "cell_type": "code",
   "execution_count": null,
   "metadata": {},
   "outputs": [],
   "source": []
  }
 ],
 "metadata": {
  "kernelspec": {
   "display_name": "Python 3",
   "language": "python",
   "name": "python3"
  },
  "language_info": {
   "codemirror_mode": {
    "name": "ipython",
    "version": 3
   },
   "file_extension": ".py",
   "mimetype": "text/x-python",
   "name": "python",
   "nbconvert_exporter": "python",
   "pygments_lexer": "ipython3",
   "version": "3.10.12"
  }
 },
 "nbformat": 4,
 "nbformat_minor": 2
}
